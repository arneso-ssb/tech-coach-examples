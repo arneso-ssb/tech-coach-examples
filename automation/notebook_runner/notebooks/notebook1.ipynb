{
 "cells": [
  {
   "cell_type": "code",
   "execution_count": null,
   "metadata": {
    "tags": []
   },
   "outputs": [],
   "source": [
    "from dapla.git import repo_root_dir\n",
    "import configparser\n",
    "import os\n",
    "\n",
    "root = repo_root_dir()\n",
    "\n",
    "# List of possible paths to look for the config file\n",
    "possible_paths = [root / \"automation/notebook_runner/notebooks/notebooks.ini\"]\n",
    "\n",
    "# Initialize the config object\n",
    "config = configparser.ConfigParser()\n",
    "\n",
    "# Flag to check if the config file is found\n",
    "config_file_found = False\n",
    "\n",
    "# Attempt to find and load the config file\n",
    "for path in possible_paths:\n",
    "    if os.path.exists(path):\n",
    "        config.read(path)\n",
    "        config_file_found = True\n",
    "        print(f\"Using config file: {path}\")\n",
    "        break\n",
    "\n",
    "if not config_file_found:\n",
    "    print(\"Config file not found in any of the specified paths.\")\n",
    "\n",
    "# Access configuration settings (if the config file was found)\n",
    "if config_file_found:\n",
    "    # Access values\n",
    "    value1 = config.get(\"Notebook1\", \"key1\")\n",
    "    value2 = config.get(\"Notebook1\", \"key2\")"
   ]
  },
  {
   "cell_type": "code",
   "execution_count": null,
   "metadata": {
    "tags": []
   },
   "outputs": [],
   "source": [
    "import os\n",
    "import pandas as pd\n",
    "\n",
    "# List of possible paths to look for the CSV file\n",
    "possible_paths = [root / \"automation/notebook_runner/notebooks\" / value2]\n",
    "print(possible_paths)\n",
    "# Initialize the DataFrame\n",
    "df = None\n",
    "\n",
    "# Attempt to find and read the CSV file\n",
    "for path in possible_paths:\n",
    "    if os.path.exists(path):\n",
    "        df = pd.read_csv(path)\n",
    "        print(f\"Using data file: {path}\")\n",
    "        break\n",
    "\n",
    "if df is None:\n",
    "    print(\"CSV file not found in any of the specified paths.\")"
   ]
  },
  {
   "cell_type": "code",
   "execution_count": null,
   "metadata": {
    "tags": []
   },
   "outputs": [],
   "source": [
    "print(value1)"
   ]
  },
  {
   "cell_type": "code",
   "execution_count": null,
   "metadata": {},
   "outputs": [],
   "source": [
    "print(df)"
   ]
  }
 ],
 "metadata": {
  "jupytext": {
   "cell_metadata_filter": "tags,-papermill",
   "notebook_metadata_filter": "jupytext.text_representation,-jupytext.text_representation.jupytext_version,-widgets,-varInspector"
  },
  "language_info": {
   "codemirror_mode": {
    "name": "ipython"
   },
   "file_extension": ".py",
   "mimetype": "text/x-python",
   "name": "python",
   "nbconvert_exporter": "python"
  }
 },
 "nbformat": 4,
 "nbformat_minor": 4
}
