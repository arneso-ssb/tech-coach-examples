{
 "cells": [
  {
   "cell_type": "code",
   "execution_count": null,
   "metadata": {},
   "outputs": [],
   "source": [
    "from dapla.git import repo_root_dir\n",
    "import configparser\n",
    "import os\n",
    "\n",
    "root = repo_root_dir()\n",
    "\n",
    "# List of possible paths to look for the config file\n",
    "possible_paths = [root / \"automation/notebook_runner/notebooks/notebooks.ini\"]\n",
    "\n",
    "# Initialize the config object\n",
    "config = configparser.ConfigParser()\n",
    "\n",
    "# Flag to check if the config file is found\n",
    "config_file_found = False\n",
    "\n",
    "# Attempt to find and load the config file\n",
    "for path in possible_paths:\n",
    "    if os.path.exists(path):\n",
    "        config.read(path)\n",
    "        config_file_found = True\n",
    "        print(f\"Using config file: {path}\")\n",
    "        break\n",
    "\n",
    "if not config_file_found:\n",
    "    print(\"Config file not found in any of the specified paths.\")\n",
    "\n",
    "# Access configuration settings (if the config file was found)\n",
    "if config_file_found:\n",
    "    # Access values\n",
    "    value3 = config.get(\"Notebook2\", \"key3\")\n",
    "    value4 = config.get(\"Notebook2\", \"key4\")"
   ]
  },
  {
   "cell_type": "code",
   "execution_count": null,
   "metadata": {},
   "outputs": [],
   "source": [
    "import os\n",
    "import pandas as pd\n",
    "\n",
    "# Define the file name you're looking for\n",
    "file_name = value4\n",
    "\n",
    "# Search for the file in the current directory else, if not found here, lokk in the parent directory\n",
    "current_directory = os.getcwd()\n",
    "current_file_path = os.path.join(current_directory, file_name)\n",
    "parent_directory = os.path.dirname(current_directory)\n",
    "parent_file_path = os.path.join(parent_directory, file_name)\n",
    "\n",
    "# Check if the file exists in the current directory\n",
    "if os.path.exists(current_file_path):\n",
    "    df = pd.read_csv(current_file_path)\n",
    "    print(f\"CSV file found and loaded from the current directory: {current_file_path}\")\n",
    "else:\n",
    "    if os.path.exists(parent_file_path):\n",
    "        df = pd.read_csv(parent_file_path)\n",
    "        print(\n",
    "            f\"CSV file found and loaded from the parent directory: {parent_file_path}\"\n",
    "        )\n",
    "    else:\n",
    "        print(f\"{file_name} not found in the current or parent directory.\")"
   ]
  },
  {
   "cell_type": "code",
   "execution_count": null,
   "metadata": {},
   "outputs": [],
   "source": [
    "print(value3)"
   ]
  },
  {
   "cell_type": "code",
   "execution_count": null,
   "metadata": {},
   "outputs": [],
   "source": [
    "print(df)"
   ]
  }
 ],
 "metadata": {
  "language_info": {
   "codemirror_mode": {
    "name": "ipython"
   },
   "file_extension": ".py",
   "mimetype": "text/x-python",
   "name": "python",
   "nbconvert_exporter": "python"
  }
 },
 "nbformat": 4,
 "nbformat_minor": 2
}
