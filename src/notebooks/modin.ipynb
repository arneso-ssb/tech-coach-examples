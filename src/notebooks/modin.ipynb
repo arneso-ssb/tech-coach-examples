{
 "cells": [
  {
   "cell_type": "markdown",
   "metadata": {},
   "source": [
    "# Test av store datasett med modin og pandas\n",
    "Pandas har utfordringer med store datasett, både med tanke på minnebruk og ytelse.\n",
    "[Modin](https://modin.readthedocs.io/en/stable/) kan brukes som en erstatning ved\n",
    "bare å endre en linje kode, og kan være et enklere alternativ å ta i bruk enn å\n",
    "bruke PySpark.\n",
    "\n",
    "Noen fordeler med modin:\n",
    "* Virker på datsett større enn tilgjengelig minne (cacher til disk).\n",
    "* Utnytter alle kjernene på prosessoren (pandas kun 1), gir ofte høyere ytelse.\n",
    "* Kan bruke eksisterende pandas-kode.\n",
    "\n",
    "## Test med store datasett\n",
    "Prøver å opprette en datframe på 20 GB.\n",
    "\n",
    "### Med modin"
   ]
  },
  {
   "cell_type": "code",
   "execution_count": null,
   "metadata": {},
   "outputs": [],
   "source": [
    "import modin.pandas as pd\n",
    "import numpy as np\n",
    "\n",
    "df = pd.concat(\n",
    "    [pd.DataFrame(np.random.randint(0, 100, size=(2**20, 2**8))) for _ in range(10)]\n",
    ")  # 10x2GB frames -- Working!\n",
    "df.info()"
   ]
  },
  {
   "cell_type": "markdown",
   "metadata": {},
   "source": [
    "### Med pandas\n",
    "Dette vil ikke virke, med mindre du har minst 20 GB minne."
   ]
  },
  {
   "cell_type": "code",
   "execution_count": null,
   "metadata": {},
   "outputs": [],
   "source": [
    "import pandas\n",
    "import numpy as np\n",
    "\n",
    "df = pandas.concat(\n",
    "    [\n",
    "        pandas.DataFrame(np.random.randint(0, 100, size=(2**20, 2**8)))\n",
    "        for _ in range(10)\n",
    "    ]\n",
    ")  # Memory Error!"
   ]
  }
 ],
 "metadata": {
  "language_info": {
   "codemirror_mode": {
    "name": "ipython"
   },
   "file_extension": ".py",
   "mimetype": "text/x-python",
   "name": "python",
   "nbconvert_exporter": "python"
  }
 },
 "nbformat": 4,
 "nbformat_minor": 0
}
