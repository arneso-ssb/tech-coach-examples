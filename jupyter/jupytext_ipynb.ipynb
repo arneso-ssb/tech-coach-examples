{
 "cells": [
  {
   "cell_type": "markdown",
   "id": "928b1585",
   "metadata": {},
   "source": [
    "# Jupytext\n",
    "[Jupytext](https://github.com/mwouts/jupytext)\n",
    "brukes for å kunne lagre Jupyter notebooks som rene pythonfiler, det vil si med\n",
    "ending `.py` i stedet for `.ipynb`. Rene pythonfiler gir en rekke\n",
    "fordeler med tanke på versjonskontroll og verktøy for kodekvalitetssjekk, og man\n",
    "slipper også stripping av output. Du kan fortsatt jobbe med filene som notebooks\n",
    "på vanlig måte.\n",
    "\n",
    "For å åpne en slik python-fil som Notebook i JupyterLab, høyreklikk på fila og velg\n",
    "Open With &rarr; Notebook."
   ]
  },
  {
   "cell_type": "markdown",
   "id": "126cba94",
   "metadata": {},
   "source": [
    "## Oppsett\n",
    "Det anbefales å konfigurere jupytext slik som det gjort i fila [pyproject.toml] i\n",
    "dette repoet, linje 34-45. Der bruker man prosent-formatet, noe som gir god støtte\n",
    "i VSCode, PyCharm og andre editorer. Oppsettet stripper også bort unødvendige metadata,\n",
    "slik at man slipper unødvendige oppdateringer og potensielle mergekonflikter. Oppsettet\n",
    "sørger også for at verktøyet [isort] virker riktig med filene.\n",
    "\n",
    "[pyproject.toml]: https://github.com/statisticsnorway/tech-coach-examples/blob/main/pyproject.toml\n",
    "[isort]: https://pycqa.github.io/isort/"
   ]
  },
  {
   "cell_type": "markdown",
   "id": "0248a34a",
   "metadata": {},
   "source": [
    "En jupytext pythonfil ser typisk ut som dette i en vanlig editor:\n",
    "```\n",
    "# ---\n",
    "# jupyter:\n",
    "#   jupytext:\n",
    "#     text_representation:\n",
    "#       extension: .py\n",
    "#       format_name: percent\n",
    "#       format_version: '1.3'\n",
    "# ---\n",
    "\n",
    "# %% [markdown]\n",
    "# # Jupytext\n",
    "\n",
    "# %%\n",
    "import os\n",
    "print(\"Hello world\")\n",
    "```"
   ]
  },
  {
   "cell_type": "markdown",
   "id": "b521b990",
   "metadata": {},
   "source": [
    "## Konvertering av eksistrende .ipynb filer til jupytext .py\n",
    "Sørg for at oppsettet ovenfor er konfigurert i repoets `pyproject.toml` før du\n",
    "konverterer filer.\n",
    "\n",
    "Hvis du har Jypyter notebook filer i .ipynb-format og som du vil konvertere til\n",
    ".py-format for bruk med jupytext, kjører du følgende kommando:\n",
    "```shell\n",
    "# convert notebook.ipynb to a .py file file in the double percent format\n",
    "jupytext --to py:percent notebook.ipynb\n",
    "```\n",
    "\n",
    "Eller hvis du vil konvertere motsatt vei, så kjører du denne kommandoen:\n",
    "```shell\n",
    "# convert notebook.py file to notebook.ipynb\n",
    "jupytext --to notebook notebook.py\n",
    "```"
   ]
  },
  {
   "cell_type": "markdown",
   "id": "933c7c9e",
   "metadata": {},
   "source": [
    "## Opprette nye filer jupytext .py filer\n",
    "Dessverre er standardformatet for jupytetxt på Dapla light-formatet, og ikke\n",
    "percent-formatet. Derfor får man ikke percent-format hvis man åpner en .py-fil\n",
    "direkte med Open With &rarr; Notebook.\n",
    "\n",
    "Opprett og lagre i stedet en notebook på vanlig måte, og så kjører du\n",
    "konverteringskommandoen ovenfor for å konvertere den til .py-fil.\n",
    "Legg inn .py-fila i git og slett tilhørende .ipynb-fil."
   ]
  },
  {
   "cell_type": "markdown",
   "id": "ed1f5d48",
   "metadata": {},
   "source": [
    "## Eksempel på kodeceller"
   ]
  },
  {
   "cell_type": "code",
   "execution_count": null,
   "id": "96b7fff7",
   "metadata": {},
   "outputs": [],
   "source": [
    "import os\n",
    "\n",
    "\n",
    "print(\"Hello world\")"
   ]
  },
  {
   "cell_type": "code",
   "execution_count": null,
   "id": "8636aefc",
   "metadata": {},
   "outputs": [],
   "source": [
    "print(\"New Cell\")"
   ]
  }
 ],
 "metadata": {
  "jupytext": {
   "cell_metadata_filter": "tags,-papermill",
   "main_language": "python",
   "notebook_metadata_filter": "jupytext.text_representation,-jupytext.text_representation.jupytext_version,-widgets,-varInspector"
  }
 },
 "nbformat": 4,
 "nbformat_minor": 5
}
