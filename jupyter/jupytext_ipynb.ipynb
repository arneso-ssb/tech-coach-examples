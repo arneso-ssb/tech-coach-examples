{
 "cells": [
  {
   "cell_type": "markdown",
   "id": "0",
   "metadata": {},
   "source": [
    "# Jupytext\n",
    "[Jupytext](https://github.com/mwouts/jupytext)\n",
    "brukes for å kunne lagre Jupyter notebooks som rene pythonfiler, det vil si med\n",
    "ending `.py` i stedet for `.ipynb`. Rene pythonfiler gir en rekke\n",
    "fordeler med tanke på versjonskontroll og verktøy for kodekvalitetssjekk, og man\n",
    "slipper også stripping av output. Du kan fortsatt jobbe med filene som notebooks\n",
    "på vanlig måte.\n",
    "\n",
    "For å åpne en slik python-fil som Notebook i JupyterLab, høyreklikk på fila og velg\n",
    "Open With &rarr; Notebook."
   ]
  },
  {
   "cell_type": "markdown",
   "id": "1",
   "metadata": {},
   "source": [
    "## Oppsett\n",
    "Det anbefales å konfigurere jupytext slik som det gjort i fila [pyproject.toml] i\n",
    "dette repoet, linje 41-44. Der bruker man prosent-formatet, noe som gir god støtte\n",
    "i VSCode, PyCharm og andre editorer. Oppsettet stripper også bort unødvendige metadata,\n",
    "slik at man slipper unødvendige oppdateringer og potensielle mergekonflikter. Oppsettet\n",
    "sørger også for at verktøyet [isort] virker riktig med filene.\n",
    "\n",
    "[pyproject.toml]: https://github.com/statisticsnorway/tech-coach-examples/blob/main/pyproject.toml\n",
    "[isort]: https://pycqa.github.io/isort/"
   ]
  },
  {
   "cell_type": "markdown",
   "id": "2",
   "metadata": {},
   "source": [
    "En jupytext pythonfil ser typisk ut som dette i en vanlig editor:\n",
    "```\n",
    "# ---\n",
    "# jupyter:\n",
    "#   jupytext:\n",
    "#     text_representation:\n",
    "#       extension: .py\n",
    "#       format_name: percent\n",
    "#       format_version: '1.3'\n",
    "# ---\n",
    "\n",
    "# %% [markdown]\n",
    "# # Jupytext\n",
    "\n",
    "# %%\n",
    "import os\n",
    "print(\"Hello world\")\n",
    "```"
   ]
  },
  {
   "cell_type": "markdown",
   "id": "3",
   "metadata": {},
   "source": [
    "## Bruk av JupyterLab til å konvertere eksistrende .ipynb filer til jupytext .py\n",
    "Sørg for at oppsettet ovenfor er konfigurert i repoets `pyproject.toml` før du\n",
    "konverterer filer.\n",
    "\n",
    "Åpne hver .ipynb-fil på vanlig måte og lagre den på nytt.\n",
    "Da vil det i tillegg til .ipynb-filen bli opprettet en .py-fil med samme navn.\n",
    "Det er .py-filen som skal legges inn i git.\n",
    "Alle endringer du gjør i ipynb-filen blir automatisk speilet til py-filen, og motsatt."
   ]
  },
  {
   "cell_type": "markdown",
   "id": "4",
   "metadata": {},
   "source": [
    "## Manuell konvertering av eksistrende .ipynb filer til jupytext .py\n",
    "Sørg for at oppsettet ovenfor er konfigurert i repoets `pyproject.toml` før du\n",
    "konverterer filer.\n",
    "\n",
    "Hvis du har Jypyter notebook filer i .ipynb-format og som du vil konvertere til\n",
    ".py-format for bruk med jupytext, kjører du følgende kommando:\n",
    "```shell\n",
    "# convert notebook.ipynb to a .py file file in the double percent format\n",
    "jupytext --to py:percent notebook.ipynb\n",
    "```\n",
    "\n",
    "Eller hvis du vil konvertere motsatt vei, så kjører du denne kommandoen:\n",
    "```shell\n",
    "# convert notebook.py file to notebook.ipynb\n",
    "jupytext --to notebook notebook.py\n",
    "```"
   ]
  },
  {
   "cell_type": "markdown",
   "id": "5",
   "metadata": {},
   "source": [
    "## Opprette nye filer jupytext .py filer\n",
    "Pass på at [pyproject.toml] inneholder  konfigurasjonen beskrevet ovenfor.\n",
    "Opprett en ny fil ved å åpne en ny notebook (File &rarr; New notebook) på vanlig måte.\n",
    "Da vil det i tillegg til .ipynb-filen bli opprettet en .py-fil med samme navn.\n",
    "Det er .py-filen som skal legges inn i git.\n",
    "\n",
    "Alle endringer du gjør i ipynb-filen blir automatisk speilet til py-filen, og motsatt.\n",
    "\n",
    "[pyproject.toml]: https://github.com/statisticsnorway/tech-coach-examples/blob/main/pyproject.toml"
   ]
  },
  {
   "cell_type": "markdown",
   "id": "6",
   "metadata": {},
   "source": [
    "## Eksempel på kodeceller"
   ]
  },
  {
   "cell_type": "code",
   "execution_count": null,
   "id": "7",
   "metadata": {},
   "outputs": [],
   "source": [
    "print(\"Hello world\")"
   ]
  }
 ],
 "metadata": {
  "jupytext": {
   "cell_metadata_filter": "tags,-papermill",
   "notebook_metadata_filter": "jupytext.text_representation,-jupytext.text_representation.jupytext_version,-widgets,-varInspector"
  },
  "language_info": {
   "codemirror_mode": {
    "name": "ipython"
   },
   "file_extension": ".py",
   "mimetype": "text/x-python",
   "name": "python",
   "nbconvert_exporter": "python"
  }
 },
 "nbformat": 4,
 "nbformat_minor": 5
}
