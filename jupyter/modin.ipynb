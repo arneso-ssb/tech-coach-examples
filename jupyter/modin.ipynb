{
 "cells": [
  {
   "cell_type": "markdown",
   "metadata": {},
   "source": [
    "# Test av store datasett med modin og pandas\n",
    "Pandas har utfordringer med store datasett, både med tanke på minnebruk og ytelse.\n",
    "[Modin](https://modin.readthedocs.io/en/stable/) kan brukes som en erstatning ved\n",
    "bare å endre en linje kode, og kan være et enklere alternativ å ta i bruk enn å\n",
    "bruke PySpark eller andre alternativer.\n",
    "\n",
    "Det eneste du trenger å endre i koden din er:\n",
    "```\n",
    "# import pandas as pd\n",
    "import modin.pandas as pd\n",
    "```\n",
    "\n",
    "I tillegg må du installere modin-pakken med kommandoen:\n",
    "```\n",
    "poetry add modin[ray]   # Eller pip install hvis du ikke bruker poetry\n",
    "```\n",
    "\n",
    "Noen fordeler med Modin:\n",
    "* Virker på datsett større enn tilgjengelig minne (cacher til disk).\n",
    "* Utnytter alle kjernene på prosessoren (pandas bruker kun 1), gir ofte høyere ytelse.\n",
    "* Kan bruke eksisterende pandas-kode.\n",
    "\n",
    "## Hvordan kjøre eksemplene nedenfor?\n",
    "\n",
    "### På Jupyter i prod-sonen og på Dapla\n",
    "1. Klon ut repoet\n",
    "2. Kjør kommandoen `ssb-project build`\n",
    "3. Åpne fila modin.ipynb i Jupyter, velg kjerne tech-coach-examples og kjør på\n",
    "   vanlig måte.\n",
    "\n",
    "### Lokalt på PC\n",
    "Beskrivelsen nedenfor forutsetter at du har installert `poetry`.\n",
    "\n",
    "1. Klon ut repoet\n",
    "2. Kjør kommandoen `poetry update`\n",
    "3. Kjør kommandoen `poetry run python -m ipykernel install --user --name tech-coach-examples`\n",
    "4. Kjør kommandoen `poetry run jupyter lab`\n",
    "5. Åpne fila modin.ipynb i Jupyter, velg kjerne tech-coach-examples og kjør på\n",
    "   vanlig måte.\n",
    "\n",
    "\n",
    "## Test med store datasett\n",
    "Prøver å opprette en dataframe på 20 GB. På Jupyter i prod-sonen er det 10 GB\n",
    "minne, og det går bra ved bruk av Modin, men ikke med Pandas.\n",
    "\n",
    "### Med Modin\n",
    "Hvis du kjører testen på Jupyter i prod-sonen vil du få noen advarsler, men etter\n",
    "ca. 3 minutter er dataframen opprettet og du får ut info om den."
   ]
  },
  {
   "cell_type": "code",
   "execution_count": null,
   "metadata": {},
   "outputs": [],
   "source": [
    "import modin.pandas as mpd\n",
    "import numpy as np\n",
    "\n",
    "df = mpd.concat(\n",
    "    [\n",
    "        mpd.DataFrame(\n",
    "            np.random.default_rng().integers(0, 100, size=(2**20, 2**8)),\n",
    "        )\n",
    "        for _ in range(10)\n",
    "    ],\n",
    ")  # 10x2GB frames -- Working!\n",
    "df.info()"
   ]
  },
  {
   "cell_type": "markdown",
   "metadata": {},
   "source": [
    "### Med pandas\n",
    "Tilsvarende kode med Pandas vil ikke virke, med mindre du har minst 20 GB minne."
   ]
  },
  {
   "cell_type": "code",
   "execution_count": null,
   "metadata": {},
   "outputs": [],
   "source": [
    "import pandas as pd\n",
    "import numpy as np\n",
    "\n",
    "df = pd.concat(\n",
    "    [\n",
    "        pd.DataFrame(\n",
    "            np.random.default_rng().integers(0, 100, size=(2**20, 2**8)),\n",
    "        )\n",
    "        for _ in range(10)\n",
    "    ],\n",
    ")  # Memory Error!"
   ]
  }
 ],
 "metadata": {
  "language_info": {
   "codemirror_mode": {
    "name": "ipython"
   },
   "file_extension": ".py",
   "mimetype": "text/x-python",
   "name": "python",
   "nbconvert_exporter": "python"
  }
 },
 "nbformat": 4,
 "nbformat_minor": 0
}
